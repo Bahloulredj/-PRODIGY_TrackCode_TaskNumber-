{
 "cells": [
  {
   "cell_type": "markdown",
   "id": "aa2a094d",
   "metadata": {},
   "source": [
    "# cleansing data WDI"
   ]
  },
  {
   "cell_type": "code",
   "execution_count": 82,
   "id": "0a36043a",
   "metadata": {},
   "outputs": [],
   "source": [
    "import pandas as pd\n",
    "import numpy as np\n",
    "import seaborn as sns\n",
    "import matplotlib.pyplot as plt\n",
    "dataproj=pd.read_csv(r\"C:\\Users\\amina\\Desktop\\projects_DATA_science\\API_SP.POP.TOTL_DS2\\API_SP.POP.TOTL_DS2.csv\")"
   ]
  },
  {
   "cell_type": "code",
   "execution_count": 83,
   "id": "8c9a172b",
   "metadata": {},
   "outputs": [
    {
     "data": {
      "text/html": [
       "<div>\n",
       "<style scoped>\n",
       "    .dataframe tbody tr th:only-of-type {\n",
       "        vertical-align: middle;\n",
       "    }\n",
       "\n",
       "    .dataframe tbody tr th {\n",
       "        vertical-align: top;\n",
       "    }\n",
       "\n",
       "    .dataframe thead th {\n",
       "        text-align: right;\n",
       "    }\n",
       "</style>\n",
       "<table border=\"1\" class=\"dataframe\">\n",
       "  <thead>\n",
       "    <tr style=\"text-align: right;\">\n",
       "      <th></th>\n",
       "      <th>Country Name</th>\n",
       "      <th>Country Code</th>\n",
       "      <th>Indicator Name</th>\n",
       "      <th>Indicator Code</th>\n",
       "      <th>1960</th>\n",
       "      <th>1961</th>\n",
       "      <th>1962</th>\n",
       "      <th>1963</th>\n",
       "      <th>1964</th>\n",
       "      <th>1965</th>\n",
       "      <th>...</th>\n",
       "      <th>2014</th>\n",
       "      <th>2015</th>\n",
       "      <th>2016</th>\n",
       "      <th>2017</th>\n",
       "      <th>2018</th>\n",
       "      <th>2019</th>\n",
       "      <th>2020</th>\n",
       "      <th>2021</th>\n",
       "      <th>2022</th>\n",
       "      <th>Unnamed: 67</th>\n",
       "    </tr>\n",
       "  </thead>\n",
       "  <tbody>\n",
       "    <tr>\n",
       "      <th>0</th>\n",
       "      <td>Aruba</td>\n",
       "      <td>ABW</td>\n",
       "      <td>Population, total</td>\n",
       "      <td>SP.POP.TOTL</td>\n",
       "      <td>54608.0</td>\n",
       "      <td>55811.0</td>\n",
       "      <td>56682.0</td>\n",
       "      <td>57475.0</td>\n",
       "      <td>58178.0</td>\n",
       "      <td>58782.0</td>\n",
       "      <td>...</td>\n",
       "      <td>103594.0</td>\n",
       "      <td>104257.0</td>\n",
       "      <td>104874.0</td>\n",
       "      <td>105439.0</td>\n",
       "      <td>105962.0</td>\n",
       "      <td>106442.0</td>\n",
       "      <td>106585.0</td>\n",
       "      <td>106537.0</td>\n",
       "      <td>106445.0</td>\n",
       "      <td>NaN</td>\n",
       "    </tr>\n",
       "    <tr>\n",
       "      <th>1</th>\n",
       "      <td>Africa Eastern and Southern</td>\n",
       "      <td>AFE</td>\n",
       "      <td>Population, total</td>\n",
       "      <td>SP.POP.TOTL</td>\n",
       "      <td>130692579.0</td>\n",
       "      <td>134169237.0</td>\n",
       "      <td>137835590.0</td>\n",
       "      <td>141630546.0</td>\n",
       "      <td>145605995.0</td>\n",
       "      <td>149742351.0</td>\n",
       "      <td>...</td>\n",
       "      <td>583651101.0</td>\n",
       "      <td>600008424.0</td>\n",
       "      <td>616377605.0</td>\n",
       "      <td>632746570.0</td>\n",
       "      <td>649757148.0</td>\n",
       "      <td>667242986.0</td>\n",
       "      <td>685112979.0</td>\n",
       "      <td>702977106.0</td>\n",
       "      <td>720859132.0</td>\n",
       "      <td>NaN</td>\n",
       "    </tr>\n",
       "    <tr>\n",
       "      <th>2</th>\n",
       "      <td>Afghanistan</td>\n",
       "      <td>AFG</td>\n",
       "      <td>Population, total</td>\n",
       "      <td>SP.POP.TOTL</td>\n",
       "      <td>8622466.0</td>\n",
       "      <td>8790140.0</td>\n",
       "      <td>8969047.0</td>\n",
       "      <td>9157465.0</td>\n",
       "      <td>9355514.0</td>\n",
       "      <td>9565147.0</td>\n",
       "      <td>...</td>\n",
       "      <td>32716210.0</td>\n",
       "      <td>33753499.0</td>\n",
       "      <td>34636207.0</td>\n",
       "      <td>35643418.0</td>\n",
       "      <td>36686784.0</td>\n",
       "      <td>37769499.0</td>\n",
       "      <td>38972230.0</td>\n",
       "      <td>40099462.0</td>\n",
       "      <td>41128771.0</td>\n",
       "      <td>NaN</td>\n",
       "    </tr>\n",
       "    <tr>\n",
       "      <th>3</th>\n",
       "      <td>Africa Western and Central</td>\n",
       "      <td>AFW</td>\n",
       "      <td>Population, total</td>\n",
       "      <td>SP.POP.TOTL</td>\n",
       "      <td>97256290.0</td>\n",
       "      <td>99314028.0</td>\n",
       "      <td>101445032.0</td>\n",
       "      <td>103667517.0</td>\n",
       "      <td>105959979.0</td>\n",
       "      <td>108336203.0</td>\n",
       "      <td>...</td>\n",
       "      <td>397855507.0</td>\n",
       "      <td>408690375.0</td>\n",
       "      <td>419778384.0</td>\n",
       "      <td>431138704.0</td>\n",
       "      <td>442646825.0</td>\n",
       "      <td>454306063.0</td>\n",
       "      <td>466189102.0</td>\n",
       "      <td>478185907.0</td>\n",
       "      <td>490330870.0</td>\n",
       "      <td>NaN</td>\n",
       "    </tr>\n",
       "    <tr>\n",
       "      <th>4</th>\n",
       "      <td>Angola</td>\n",
       "      <td>AGO</td>\n",
       "      <td>Population, total</td>\n",
       "      <td>SP.POP.TOTL</td>\n",
       "      <td>5357195.0</td>\n",
       "      <td>5441333.0</td>\n",
       "      <td>5521400.0</td>\n",
       "      <td>5599827.0</td>\n",
       "      <td>5673199.0</td>\n",
       "      <td>5736582.0</td>\n",
       "      <td>...</td>\n",
       "      <td>27128337.0</td>\n",
       "      <td>28127721.0</td>\n",
       "      <td>29154746.0</td>\n",
       "      <td>30208628.0</td>\n",
       "      <td>31273533.0</td>\n",
       "      <td>32353588.0</td>\n",
       "      <td>33428486.0</td>\n",
       "      <td>34503774.0</td>\n",
       "      <td>35588987.0</td>\n",
       "      <td>NaN</td>\n",
       "    </tr>\n",
       "  </tbody>\n",
       "</table>\n",
       "<p>5 rows × 68 columns</p>\n",
       "</div>"
      ],
      "text/plain": [
       "                  Country Name Country Code     Indicator Name Indicator Code  \\\n",
       "0                        Aruba          ABW  Population, total    SP.POP.TOTL   \n",
       "1  Africa Eastern and Southern          AFE  Population, total    SP.POP.TOTL   \n",
       "2                  Afghanistan          AFG  Population, total    SP.POP.TOTL   \n",
       "3   Africa Western and Central          AFW  Population, total    SP.POP.TOTL   \n",
       "4                       Angola          AGO  Population, total    SP.POP.TOTL   \n",
       "\n",
       "          1960         1961         1962         1963         1964  \\\n",
       "0      54608.0      55811.0      56682.0      57475.0      58178.0   \n",
       "1  130692579.0  134169237.0  137835590.0  141630546.0  145605995.0   \n",
       "2    8622466.0    8790140.0    8969047.0    9157465.0    9355514.0   \n",
       "3   97256290.0   99314028.0  101445032.0  103667517.0  105959979.0   \n",
       "4    5357195.0    5441333.0    5521400.0    5599827.0    5673199.0   \n",
       "\n",
       "          1965  ...         2014         2015         2016         2017  \\\n",
       "0      58782.0  ...     103594.0     104257.0     104874.0     105439.0   \n",
       "1  149742351.0  ...  583651101.0  600008424.0  616377605.0  632746570.0   \n",
       "2    9565147.0  ...   32716210.0   33753499.0   34636207.0   35643418.0   \n",
       "3  108336203.0  ...  397855507.0  408690375.0  419778384.0  431138704.0   \n",
       "4    5736582.0  ...   27128337.0   28127721.0   29154746.0   30208628.0   \n",
       "\n",
       "          2018         2019         2020         2021         2022  \\\n",
       "0     105962.0     106442.0     106585.0     106537.0     106445.0   \n",
       "1  649757148.0  667242986.0  685112979.0  702977106.0  720859132.0   \n",
       "2   36686784.0   37769499.0   38972230.0   40099462.0   41128771.0   \n",
       "3  442646825.0  454306063.0  466189102.0  478185907.0  490330870.0   \n",
       "4   31273533.0   32353588.0   33428486.0   34503774.0   35588987.0   \n",
       "\n",
       "   Unnamed: 67  \n",
       "0          NaN  \n",
       "1          NaN  \n",
       "2          NaN  \n",
       "3          NaN  \n",
       "4          NaN  \n",
       "\n",
       "[5 rows x 68 columns]"
      ]
     },
     "execution_count": 83,
     "metadata": {},
     "output_type": "execute_result"
    }
   ],
   "source": [
    "dataproj.head()"
   ]
  },
  {
   "cell_type": "markdown",
   "id": "e032ca92",
   "metadata": {},
   "source": [
    "# checking the missing data with isna method\n",
    "       it returns a boolean values with 266 rows and 68 columns, this means that it has the same shape as our original data frame. Our data has a TRUE value which means we have a missing data. all of them are in the last columns (columns 68).\n",
    "       We can use the notna method which is exactly the reverse of isna Method. which means that it gives TRUE for the missing data."
   ]
  },
  {
   "cell_type": "markdown",
   "id": "40ca2026",
   "metadata": {},
   "source": [
    "# Exploring the missing data with sum method\n",
    "    it returns the sum of the missing data of each columns."
   ]
  },
  {
   "cell_type": "code",
   "execution_count": 84,
   "id": "f5943984",
   "metadata": {},
   "outputs": [
    {
     "data": {
      "text/plain": [
       "Country Name        0\n",
       "Country Code        0\n",
       "Indicator Name      0\n",
       "Indicator Code      0\n",
       "1960                2\n",
       "                 ... \n",
       "2019                1\n",
       "2020                1\n",
       "2021                1\n",
       "2022                1\n",
       "Unnamed: 67       266\n",
       "Length: 68, dtype: int64"
      ]
     },
     "execution_count": 84,
     "metadata": {},
     "output_type": "execute_result"
    }
   ],
   "source": [
    "dataproj.isna().sum()"
   ]
  },
  {
   "cell_type": "markdown",
   "id": "5e97913d",
   "metadata": {},
   "source": [
    "# value_counts with argument \"dropna\"\n",
    "    by applying the value_counts method. This returns counts of the unique values within this column. By default, value_counts doesn't consider NaN, the missing value as a unique value. So to include missing value, we'll add the argument dropna=False. This setting won't dropna, which means it includes NaN as a unique value too."
   ]
  },
  {
   "cell_type": "code",
   "execution_count": 85,
   "id": "92dfd446",
   "metadata": {},
   "outputs": [
    {
     "data": {
      "text/plain": [
       "571192428.0    2\n",
       "97179656.0     2\n",
       "227948869.0    2\n",
       "32500.0        2\n",
       "3497431.0      1\n",
       "              ..\n",
       "4128880.0      1\n",
       "72374.0        1\n",
       "571990.0       1\n",
       "780138593.0    1\n",
       "3806310.0      1\n",
       "Name: 1960, Length: 260, dtype: int64"
      ]
     },
     "execution_count": 85,
     "metadata": {},
     "output_type": "execute_result"
    }
   ],
   "source": [
    "dataproj['1960'].value_counts()"
   ]
  },
  {
   "cell_type": "code",
   "execution_count": 86,
   "id": "9e6ee5ec",
   "metadata": {},
   "outputs": [
    {
     "data": {
      "text/plain": [
       "571192428.0    2\n",
       "NaN            2\n",
       "97179656.0     2\n",
       "227948869.0    2\n",
       "32500.0        2\n",
       "              ..\n",
       "4128880.0      1\n",
       "72374.0        1\n",
       "571990.0       1\n",
       "780138593.0    1\n",
       "3806310.0      1\n",
       "Name: 1960, Length: 261, dtype: int64"
      ]
     },
     "execution_count": 86,
     "metadata": {},
     "output_type": "execute_result"
    }
   ],
   "source": [
    "dataproj['1960'].value_counts(dropna=False)"
   ]
  },
  {
   "cell_type": "code",
   "execution_count": 87,
   "id": "ef002017",
   "metadata": {},
   "outputs": [
    {
     "data": {
      "text/plain": [
       "598784274.0    2\n",
       "NaN            2\n",
       "102159899.0    2\n",
       "239280622.0    2\n",
       "35000.0        2\n",
       "              ..\n",
       "4378604.0      1\n",
       "75412.0        1\n",
       "604833.0       1\n",
       "799922883.0    1\n",
       "4049778.0      1\n",
       "Name: 1962, Length: 261, dtype: int64"
      ]
     },
     "execution_count": 87,
     "metadata": {},
     "output_type": "execute_result"
    }
   ],
   "source": [
    "dataproj['1962'].value_counts(dropna=False)"
   ]
  },
  {
   "cell_type": "code",
   "execution_count": 88,
   "id": "7ad1a890",
   "metadata": {},
   "outputs": [
    {
     "data": {
      "text/plain": [
       "SP.POP.TOTL    266\n",
       "Name: Indicator Code, dtype: int64"
      ]
     },
     "execution_count": 88,
     "metadata": {},
     "output_type": "execute_result"
    }
   ],
   "source": [
    "dataproj['Indicator Code'].value_counts(dropna=False)"
   ]
  },
  {
   "cell_type": "code",
   "execution_count": 89,
   "id": "ea9ced33",
   "metadata": {},
   "outputs": [
    {
     "data": {
      "text/plain": [
       "Population, total    266\n",
       "Name: Indicator Name, dtype: int64"
      ]
     },
     "execution_count": 89,
     "metadata": {},
     "output_type": "execute_result"
    }
   ],
   "source": [
    "dataproj['Indicator Name'].value_counts(dropna=False)"
   ]
  },
  {
   "cell_type": "code",
   "execution_count": 90,
   "id": "52ac040f",
   "metadata": {},
   "outputs": [
    {
     "data": {
      "text/plain": [
       "NaN    266\n",
       "Name: Unnamed: 67, dtype: int64"
      ]
     },
     "execution_count": 90,
     "metadata": {},
     "output_type": "execute_result"
    }
   ],
   "source": [
    "dataproj['Unnamed: 67'].value_counts(dropna=False)"
   ]
  },
  {
   "cell_type": "code",
   "execution_count": 91,
   "id": "fbe2aa75",
   "metadata": {},
   "outputs": [
    {
     "data": {
      "text/plain": [
       "Aruba                   1\n",
       "Oman                    1\n",
       "Malawi                  1\n",
       "Malaysia                1\n",
       "North America           1\n",
       "                       ..\n",
       "Guyana                  1\n",
       "High income             1\n",
       "Hong Kong SAR, China    1\n",
       "Honduras                1\n",
       "Zimbabwe                1\n",
       "Name: Country Name, Length: 266, dtype: int64"
      ]
     },
     "execution_count": 91,
     "metadata": {},
     "output_type": "execute_result"
    }
   ],
   "source": [
    "dataproj['Country Name'].value_counts()"
   ]
  },
  {
   "cell_type": "code",
   "execution_count": 92,
   "id": "e868d6c3",
   "metadata": {},
   "outputs": [
    {
     "data": {
      "text/plain": [
       "ABW    1\n",
       "OMN    1\n",
       "MWI    1\n",
       "MYS    1\n",
       "NAC    1\n",
       "      ..\n",
       "GUY    1\n",
       "HIC    1\n",
       "HKG    1\n",
       "HND    1\n",
       "ZWE    1\n",
       "Name: Country Code, Length: 266, dtype: int64"
      ]
     },
     "execution_count": 92,
     "metadata": {},
     "output_type": "execute_result"
    }
   ],
   "source": [
    "dataproj['Country Code'].value_counts()"
   ]
  },
  {
   "cell_type": "markdown",
   "id": "26751635",
   "metadata": {},
   "source": [
    "# checking the missing value by rows\n",
    "    all the rows contain one missing value. 266 values."
   ]
  },
  {
   "cell_type": "code",
   "execution_count": 93,
   "id": "a4a7ba96",
   "metadata": {},
   "outputs": [
    {
     "data": {
      "text/plain": [
       "0      True\n",
       "1      True\n",
       "2      True\n",
       "3      True\n",
       "4      True\n",
       "       ... \n",
       "261    True\n",
       "262    True\n",
       "263    True\n",
       "264    True\n",
       "265    True\n",
       "Length: 266, dtype: bool"
      ]
     },
     "execution_count": 93,
     "metadata": {},
     "output_type": "execute_result"
    }
   ],
   "source": [
    "num_missing_data_by_row=dataproj.isna().sum(axis=1)\n",
    "num_missing_data_by_row>0"
   ]
  },
  {
   "cell_type": "code",
   "execution_count": 94,
   "id": "73f63c9f",
   "metadata": {},
   "outputs": [
    {
     "data": {
      "text/plain": [
       "266"
      ]
     },
     "execution_count": 94,
     "metadata": {},
     "output_type": "execute_result"
    }
   ],
   "source": [
    "(num_missing_data_by_row>0).sum()"
   ]
  },
  {
   "cell_type": "markdown",
   "id": "ed2e810f",
   "metadata": {},
   "source": [
    "# examine the rows with a missing data\n",
    "    the result includes all the rows with sum missing value."
   ]
  },
  {
   "cell_type": "code",
   "execution_count": 97,
   "id": "51acc4e0",
   "metadata": {},
   "outputs": [
    {
     "data": {
      "text/plain": [
       "0      True\n",
       "1      True\n",
       "2      True\n",
       "3      True\n",
       "4      True\n",
       "       ... \n",
       "261    True\n",
       "262    True\n",
       "263    True\n",
       "264    True\n",
       "265    True\n",
       "Length: 266, dtype: bool"
      ]
     },
     "execution_count": 97,
     "metadata": {},
     "output_type": "execute_result"
    }
   ],
   "source": [
    "num_missing_data_by_row>0"
   ]
  },
  {
   "cell_type": "code",
   "execution_count": 98,
   "id": "77b8628e",
   "metadata": {},
   "outputs": [
    {
     "data": {
      "text/plain": [
       "0      False\n",
       "1      False\n",
       "2      False\n",
       "3      False\n",
       "4      False\n",
       "       ...  \n",
       "261    False\n",
       "262    False\n",
       "263    False\n",
       "264    False\n",
       "265    False\n",
       "Length: 266, dtype: bool"
      ]
     },
     "execution_count": 98,
     "metadata": {},
     "output_type": "execute_result"
    }
   ],
   "source": [
    "num_missing_data_by_row>1"
   ]
  },
  {
   "cell_type": "code",
   "execution_count": 99,
   "id": "02477434",
   "metadata": {},
   "outputs": [
    {
     "data": {
      "text/plain": [
       "0      False\n",
       "1      False\n",
       "2      False\n",
       "3      False\n",
       "4      False\n",
       "       ...  \n",
       "261    False\n",
       "262    False\n",
       "263    False\n",
       "264    False\n",
       "265    False\n",
       "Length: 264, dtype: bool"
      ]
     },
     "execution_count": 99,
     "metadata": {},
     "output_type": "execute_result"
    }
   ],
   "source": [
    "df=dataproj.drop(['Unnamed: 67','Indicator Code','Indicator Name'], axis = 1)\n",
    "df=df.dropna()\n",
    "num_missing_data_by_row=df.isna().sum(axis=1)\n",
    "num_missing_data_by_row>0"
   ]
  },
  {
   "cell_type": "code",
   "execution_count": 100,
   "id": "2d23e4c2",
   "metadata": {},
   "outputs": [
    {
     "name": "stdout",
     "output_type": "stream",
     "text": [
      "<class 'pandas.core.frame.DataFrame'>\n",
      "Int64Index: 264 entries, 0 to 265\n",
      "Data columns (total 65 columns):\n",
      " #   Column        Non-Null Count  Dtype  \n",
      "---  ------        --------------  -----  \n",
      " 0   Country Name  264 non-null    object \n",
      " 1   Country Code  264 non-null    object \n",
      " 2   1960          264 non-null    float64\n",
      " 3   1961          264 non-null    float64\n",
      " 4   1962          264 non-null    float64\n",
      " 5   1963          264 non-null    float64\n",
      " 6   1964          264 non-null    float64\n",
      " 7   1965          264 non-null    float64\n",
      " 8   1966          264 non-null    float64\n",
      " 9   1967          264 non-null    float64\n",
      " 10  1968          264 non-null    float64\n",
      " 11  1969          264 non-null    float64\n",
      " 12  1970          264 non-null    float64\n",
      " 13  1971          264 non-null    float64\n",
      " 14  1972          264 non-null    float64\n",
      " 15  1973          264 non-null    float64\n",
      " 16  1974          264 non-null    float64\n",
      " 17  1975          264 non-null    float64\n",
      " 18  1976          264 non-null    float64\n",
      " 19  1977          264 non-null    float64\n",
      " 20  1978          264 non-null    float64\n",
      " 21  1979          264 non-null    float64\n",
      " 22  1980          264 non-null    float64\n",
      " 23  1981          264 non-null    float64\n",
      " 24  1982          264 non-null    float64\n",
      " 25  1983          264 non-null    float64\n",
      " 26  1984          264 non-null    float64\n",
      " 27  1985          264 non-null    float64\n",
      " 28  1986          264 non-null    float64\n",
      " 29  1987          264 non-null    float64\n",
      " 30  1988          264 non-null    float64\n",
      " 31  1989          264 non-null    float64\n",
      " 32  1990          264 non-null    float64\n",
      " 33  1991          264 non-null    float64\n",
      " 34  1992          264 non-null    float64\n",
      " 35  1993          264 non-null    float64\n",
      " 36  1994          264 non-null    float64\n",
      " 37  1995          264 non-null    float64\n",
      " 38  1996          264 non-null    float64\n",
      " 39  1997          264 non-null    float64\n",
      " 40  1998          264 non-null    float64\n",
      " 41  1999          264 non-null    float64\n",
      " 42  2000          264 non-null    float64\n",
      " 43  2001          264 non-null    float64\n",
      " 44  2002          264 non-null    float64\n",
      " 45  2003          264 non-null    float64\n",
      " 46  2004          264 non-null    float64\n",
      " 47  2005          264 non-null    float64\n",
      " 48  2006          264 non-null    float64\n",
      " 49  2007          264 non-null    float64\n",
      " 50  2008          264 non-null    float64\n",
      " 51  2009          264 non-null    float64\n",
      " 52  2010          264 non-null    float64\n",
      " 53  2011          264 non-null    float64\n",
      " 54  2012          264 non-null    float64\n",
      " 55  2013          264 non-null    float64\n",
      " 56  2014          264 non-null    float64\n",
      " 57  2015          264 non-null    float64\n",
      " 58  2016          264 non-null    float64\n",
      " 59  2017          264 non-null    float64\n",
      " 60  2018          264 non-null    float64\n",
      " 61  2019          264 non-null    float64\n",
      " 62  2020          264 non-null    float64\n",
      " 63  2021          264 non-null    float64\n",
      " 64  2022          264 non-null    float64\n",
      "dtypes: float64(63), object(2)\n",
      "memory usage: 136.1+ KB\n"
     ]
    }
   ],
   "source": [
    "df.info()"
   ]
  },
  {
   "cell_type": "code",
   "execution_count": 102,
   "id": "0d4f96c0",
   "metadata": {},
   "outputs": [],
   "source": [
    "df.to_csv(r\"C:\\Users\\amina\\Desktop\\projects_DATA_science\\API_SP.POP.TOTL_DS2\\df.csv\")"
   ]
  },
  {
   "cell_type": "code",
   "execution_count": 103,
   "id": "117766d6",
   "metadata": {},
   "outputs": [
    {
     "data": {
      "text/html": [
       "<div>\n",
       "<style scoped>\n",
       "    .dataframe tbody tr th:only-of-type {\n",
       "        vertical-align: middle;\n",
       "    }\n",
       "\n",
       "    .dataframe tbody tr th {\n",
       "        vertical-align: top;\n",
       "    }\n",
       "\n",
       "    .dataframe thead th {\n",
       "        text-align: right;\n",
       "    }\n",
       "</style>\n",
       "<table border=\"1\" class=\"dataframe\">\n",
       "  <thead>\n",
       "    <tr style=\"text-align: right;\">\n",
       "      <th></th>\n",
       "      <th>Country Name</th>\n",
       "      <th>Country Code</th>\n",
       "      <th>1960</th>\n",
       "      <th>1961</th>\n",
       "      <th>1962</th>\n",
       "      <th>1963</th>\n",
       "      <th>1964</th>\n",
       "      <th>1965</th>\n",
       "      <th>1966</th>\n",
       "      <th>1967</th>\n",
       "      <th>...</th>\n",
       "      <th>2013</th>\n",
       "      <th>2014</th>\n",
       "      <th>2015</th>\n",
       "      <th>2016</th>\n",
       "      <th>2017</th>\n",
       "      <th>2018</th>\n",
       "      <th>2019</th>\n",
       "      <th>2020</th>\n",
       "      <th>2021</th>\n",
       "      <th>2022</th>\n",
       "    </tr>\n",
       "  </thead>\n",
       "  <tbody>\n",
       "    <tr>\n",
       "      <th>0</th>\n",
       "      <td>Aruba</td>\n",
       "      <td>ABW</td>\n",
       "      <td>54608.0</td>\n",
       "      <td>55811.0</td>\n",
       "      <td>56682.0</td>\n",
       "      <td>57475.0</td>\n",
       "      <td>58178.0</td>\n",
       "      <td>58782.0</td>\n",
       "      <td>59291.0</td>\n",
       "      <td>59522.0</td>\n",
       "      <td>...</td>\n",
       "      <td>102880.0</td>\n",
       "      <td>103594.0</td>\n",
       "      <td>104257.0</td>\n",
       "      <td>104874.0</td>\n",
       "      <td>105439.0</td>\n",
       "      <td>105962.0</td>\n",
       "      <td>106442.0</td>\n",
       "      <td>106585.0</td>\n",
       "      <td>106537.0</td>\n",
       "      <td>106445.0</td>\n",
       "    </tr>\n",
       "    <tr>\n",
       "      <th>1</th>\n",
       "      <td>Africa Eastern and Southern</td>\n",
       "      <td>AFE</td>\n",
       "      <td>130692579.0</td>\n",
       "      <td>134169237.0</td>\n",
       "      <td>137835590.0</td>\n",
       "      <td>141630546.0</td>\n",
       "      <td>145605995.0</td>\n",
       "      <td>149742351.0</td>\n",
       "      <td>153955516.0</td>\n",
       "      <td>158313235.0</td>\n",
       "      <td>...</td>\n",
       "      <td>567892149.0</td>\n",
       "      <td>583651101.0</td>\n",
       "      <td>600008424.0</td>\n",
       "      <td>616377605.0</td>\n",
       "      <td>632746570.0</td>\n",
       "      <td>649757148.0</td>\n",
       "      <td>667242986.0</td>\n",
       "      <td>685112979.0</td>\n",
       "      <td>702977106.0</td>\n",
       "      <td>720859132.0</td>\n",
       "    </tr>\n",
       "    <tr>\n",
       "      <th>2</th>\n",
       "      <td>Afghanistan</td>\n",
       "      <td>AFG</td>\n",
       "      <td>8622466.0</td>\n",
       "      <td>8790140.0</td>\n",
       "      <td>8969047.0</td>\n",
       "      <td>9157465.0</td>\n",
       "      <td>9355514.0</td>\n",
       "      <td>9565147.0</td>\n",
       "      <td>9783147.0</td>\n",
       "      <td>10010030.0</td>\n",
       "      <td>...</td>\n",
       "      <td>31541209.0</td>\n",
       "      <td>32716210.0</td>\n",
       "      <td>33753499.0</td>\n",
       "      <td>34636207.0</td>\n",
       "      <td>35643418.0</td>\n",
       "      <td>36686784.0</td>\n",
       "      <td>37769499.0</td>\n",
       "      <td>38972230.0</td>\n",
       "      <td>40099462.0</td>\n",
       "      <td>41128771.0</td>\n",
       "    </tr>\n",
       "    <tr>\n",
       "      <th>3</th>\n",
       "      <td>Africa Western and Central</td>\n",
       "      <td>AFW</td>\n",
       "      <td>97256290.0</td>\n",
       "      <td>99314028.0</td>\n",
       "      <td>101445032.0</td>\n",
       "      <td>103667517.0</td>\n",
       "      <td>105959979.0</td>\n",
       "      <td>108336203.0</td>\n",
       "      <td>110798486.0</td>\n",
       "      <td>113319950.0</td>\n",
       "      <td>...</td>\n",
       "      <td>387204553.0</td>\n",
       "      <td>397855507.0</td>\n",
       "      <td>408690375.0</td>\n",
       "      <td>419778384.0</td>\n",
       "      <td>431138704.0</td>\n",
       "      <td>442646825.0</td>\n",
       "      <td>454306063.0</td>\n",
       "      <td>466189102.0</td>\n",
       "      <td>478185907.0</td>\n",
       "      <td>490330870.0</td>\n",
       "    </tr>\n",
       "    <tr>\n",
       "      <th>4</th>\n",
       "      <td>Angola</td>\n",
       "      <td>AGO</td>\n",
       "      <td>5357195.0</td>\n",
       "      <td>5441333.0</td>\n",
       "      <td>5521400.0</td>\n",
       "      <td>5599827.0</td>\n",
       "      <td>5673199.0</td>\n",
       "      <td>5736582.0</td>\n",
       "      <td>5787044.0</td>\n",
       "      <td>5827503.0</td>\n",
       "      <td>...</td>\n",
       "      <td>26147002.0</td>\n",
       "      <td>27128337.0</td>\n",
       "      <td>28127721.0</td>\n",
       "      <td>29154746.0</td>\n",
       "      <td>30208628.0</td>\n",
       "      <td>31273533.0</td>\n",
       "      <td>32353588.0</td>\n",
       "      <td>33428486.0</td>\n",
       "      <td>34503774.0</td>\n",
       "      <td>35588987.0</td>\n",
       "    </tr>\n",
       "    <tr>\n",
       "      <th>...</th>\n",
       "      <td>...</td>\n",
       "      <td>...</td>\n",
       "      <td>...</td>\n",
       "      <td>...</td>\n",
       "      <td>...</td>\n",
       "      <td>...</td>\n",
       "      <td>...</td>\n",
       "      <td>...</td>\n",
       "      <td>...</td>\n",
       "      <td>...</td>\n",
       "      <td>...</td>\n",
       "      <td>...</td>\n",
       "      <td>...</td>\n",
       "      <td>...</td>\n",
       "      <td>...</td>\n",
       "      <td>...</td>\n",
       "      <td>...</td>\n",
       "      <td>...</td>\n",
       "      <td>...</td>\n",
       "      <td>...</td>\n",
       "      <td>...</td>\n",
       "    </tr>\n",
       "    <tr>\n",
       "      <th>261</th>\n",
       "      <td>Kosovo</td>\n",
       "      <td>XKX</td>\n",
       "      <td>947000.0</td>\n",
       "      <td>966000.0</td>\n",
       "      <td>994000.0</td>\n",
       "      <td>1022000.0</td>\n",
       "      <td>1050000.0</td>\n",
       "      <td>1078000.0</td>\n",
       "      <td>1106000.0</td>\n",
       "      <td>1135000.0</td>\n",
       "      <td>...</td>\n",
       "      <td>1818117.0</td>\n",
       "      <td>1812771.0</td>\n",
       "      <td>1788196.0</td>\n",
       "      <td>1777557.0</td>\n",
       "      <td>1791003.0</td>\n",
       "      <td>1797085.0</td>\n",
       "      <td>1788878.0</td>\n",
       "      <td>1790133.0</td>\n",
       "      <td>1786038.0</td>\n",
       "      <td>1761985.0</td>\n",
       "    </tr>\n",
       "    <tr>\n",
       "      <th>262</th>\n",
       "      <td>Yemen, Rep.</td>\n",
       "      <td>YEM</td>\n",
       "      <td>5542459.0</td>\n",
       "      <td>5646668.0</td>\n",
       "      <td>5753386.0</td>\n",
       "      <td>5860197.0</td>\n",
       "      <td>5973803.0</td>\n",
       "      <td>6097298.0</td>\n",
       "      <td>6228430.0</td>\n",
       "      <td>6368014.0</td>\n",
       "      <td>...</td>\n",
       "      <td>26984002.0</td>\n",
       "      <td>27753304.0</td>\n",
       "      <td>28516545.0</td>\n",
       "      <td>29274002.0</td>\n",
       "      <td>30034389.0</td>\n",
       "      <td>30790513.0</td>\n",
       "      <td>31546691.0</td>\n",
       "      <td>32284046.0</td>\n",
       "      <td>32981641.0</td>\n",
       "      <td>33696614.0</td>\n",
       "    </tr>\n",
       "    <tr>\n",
       "      <th>263</th>\n",
       "      <td>South Africa</td>\n",
       "      <td>ZAF</td>\n",
       "      <td>16520441.0</td>\n",
       "      <td>16989464.0</td>\n",
       "      <td>17503133.0</td>\n",
       "      <td>18042215.0</td>\n",
       "      <td>18603097.0</td>\n",
       "      <td>19187194.0</td>\n",
       "      <td>19789771.0</td>\n",
       "      <td>20410677.0</td>\n",
       "      <td>...</td>\n",
       "      <td>53873616.0</td>\n",
       "      <td>54729551.0</td>\n",
       "      <td>55876504.0</td>\n",
       "      <td>56422274.0</td>\n",
       "      <td>56641209.0</td>\n",
       "      <td>57339635.0</td>\n",
       "      <td>58087055.0</td>\n",
       "      <td>58801927.0</td>\n",
       "      <td>59392255.0</td>\n",
       "      <td>59893885.0</td>\n",
       "    </tr>\n",
       "    <tr>\n",
       "      <th>264</th>\n",
       "      <td>Zambia</td>\n",
       "      <td>ZMB</td>\n",
       "      <td>3119430.0</td>\n",
       "      <td>3219451.0</td>\n",
       "      <td>3323427.0</td>\n",
       "      <td>3431381.0</td>\n",
       "      <td>3542764.0</td>\n",
       "      <td>3658024.0</td>\n",
       "      <td>3777680.0</td>\n",
       "      <td>3901288.0</td>\n",
       "      <td>...</td>\n",
       "      <td>15234976.0</td>\n",
       "      <td>15737793.0</td>\n",
       "      <td>16248230.0</td>\n",
       "      <td>16767761.0</td>\n",
       "      <td>17298054.0</td>\n",
       "      <td>17835893.0</td>\n",
       "      <td>18380477.0</td>\n",
       "      <td>18927715.0</td>\n",
       "      <td>19473125.0</td>\n",
       "      <td>20017675.0</td>\n",
       "    </tr>\n",
       "    <tr>\n",
       "      <th>265</th>\n",
       "      <td>Zimbabwe</td>\n",
       "      <td>ZWE</td>\n",
       "      <td>3806310.0</td>\n",
       "      <td>3925952.0</td>\n",
       "      <td>4049778.0</td>\n",
       "      <td>4177931.0</td>\n",
       "      <td>4310332.0</td>\n",
       "      <td>4447149.0</td>\n",
       "      <td>4588529.0</td>\n",
       "      <td>4734694.0</td>\n",
       "      <td>...</td>\n",
       "      <td>13555422.0</td>\n",
       "      <td>13855753.0</td>\n",
       "      <td>14154937.0</td>\n",
       "      <td>14452704.0</td>\n",
       "      <td>14751101.0</td>\n",
       "      <td>15052184.0</td>\n",
       "      <td>15354608.0</td>\n",
       "      <td>15669666.0</td>\n",
       "      <td>15993524.0</td>\n",
       "      <td>16320537.0</td>\n",
       "    </tr>\n",
       "  </tbody>\n",
       "</table>\n",
       "<p>264 rows × 65 columns</p>\n",
       "</div>"
      ],
      "text/plain": [
       "                    Country Name Country Code         1960         1961  \\\n",
       "0                          Aruba          ABW      54608.0      55811.0   \n",
       "1    Africa Eastern and Southern          AFE  130692579.0  134169237.0   \n",
       "2                    Afghanistan          AFG    8622466.0    8790140.0   \n",
       "3     Africa Western and Central          AFW   97256290.0   99314028.0   \n",
       "4                         Angola          AGO    5357195.0    5441333.0   \n",
       "..                           ...          ...          ...          ...   \n",
       "261                       Kosovo          XKX     947000.0     966000.0   \n",
       "262                  Yemen, Rep.          YEM    5542459.0    5646668.0   \n",
       "263                 South Africa          ZAF   16520441.0   16989464.0   \n",
       "264                       Zambia          ZMB    3119430.0    3219451.0   \n",
       "265                     Zimbabwe          ZWE    3806310.0    3925952.0   \n",
       "\n",
       "            1962         1963         1964         1965         1966  \\\n",
       "0        56682.0      57475.0      58178.0      58782.0      59291.0   \n",
       "1    137835590.0  141630546.0  145605995.0  149742351.0  153955516.0   \n",
       "2      8969047.0    9157465.0    9355514.0    9565147.0    9783147.0   \n",
       "3    101445032.0  103667517.0  105959979.0  108336203.0  110798486.0   \n",
       "4      5521400.0    5599827.0    5673199.0    5736582.0    5787044.0   \n",
       "..           ...          ...          ...          ...          ...   \n",
       "261     994000.0    1022000.0    1050000.0    1078000.0    1106000.0   \n",
       "262    5753386.0    5860197.0    5973803.0    6097298.0    6228430.0   \n",
       "263   17503133.0   18042215.0   18603097.0   19187194.0   19789771.0   \n",
       "264    3323427.0    3431381.0    3542764.0    3658024.0    3777680.0   \n",
       "265    4049778.0    4177931.0    4310332.0    4447149.0    4588529.0   \n",
       "\n",
       "            1967  ...         2013         2014         2015         2016  \\\n",
       "0        59522.0  ...     102880.0     103594.0     104257.0     104874.0   \n",
       "1    158313235.0  ...  567892149.0  583651101.0  600008424.0  616377605.0   \n",
       "2     10010030.0  ...   31541209.0   32716210.0   33753499.0   34636207.0   \n",
       "3    113319950.0  ...  387204553.0  397855507.0  408690375.0  419778384.0   \n",
       "4      5827503.0  ...   26147002.0   27128337.0   28127721.0   29154746.0   \n",
       "..           ...  ...          ...          ...          ...          ...   \n",
       "261    1135000.0  ...    1818117.0    1812771.0    1788196.0    1777557.0   \n",
       "262    6368014.0  ...   26984002.0   27753304.0   28516545.0   29274002.0   \n",
       "263   20410677.0  ...   53873616.0   54729551.0   55876504.0   56422274.0   \n",
       "264    3901288.0  ...   15234976.0   15737793.0   16248230.0   16767761.0   \n",
       "265    4734694.0  ...   13555422.0   13855753.0   14154937.0   14452704.0   \n",
       "\n",
       "            2017         2018         2019         2020         2021  \\\n",
       "0       105439.0     105962.0     106442.0     106585.0     106537.0   \n",
       "1    632746570.0  649757148.0  667242986.0  685112979.0  702977106.0   \n",
       "2     35643418.0   36686784.0   37769499.0   38972230.0   40099462.0   \n",
       "3    431138704.0  442646825.0  454306063.0  466189102.0  478185907.0   \n",
       "4     30208628.0   31273533.0   32353588.0   33428486.0   34503774.0   \n",
       "..           ...          ...          ...          ...          ...   \n",
       "261    1791003.0    1797085.0    1788878.0    1790133.0    1786038.0   \n",
       "262   30034389.0   30790513.0   31546691.0   32284046.0   32981641.0   \n",
       "263   56641209.0   57339635.0   58087055.0   58801927.0   59392255.0   \n",
       "264   17298054.0   17835893.0   18380477.0   18927715.0   19473125.0   \n",
       "265   14751101.0   15052184.0   15354608.0   15669666.0   15993524.0   \n",
       "\n",
       "            2022  \n",
       "0       106445.0  \n",
       "1    720859132.0  \n",
       "2     41128771.0  \n",
       "3    490330870.0  \n",
       "4     35588987.0  \n",
       "..           ...  \n",
       "261    1761985.0  \n",
       "262   33696614.0  \n",
       "263   59893885.0  \n",
       "264   20017675.0  \n",
       "265   16320537.0  \n",
       "\n",
       "[264 rows x 65 columns]"
      ]
     },
     "execution_count": 103,
     "metadata": {},
     "output_type": "execute_result"
    }
   ],
   "source": [
    "df"
   ]
  }
 ],
 "metadata": {
  "kernelspec": {
   "display_name": "Python 3 (ipykernel)",
   "language": "python",
   "name": "python3"
  },
  "language_info": {
   "codemirror_mode": {
    "name": "ipython",
    "version": 3
   },
   "file_extension": ".py",
   "mimetype": "text/x-python",
   "name": "python",
   "nbconvert_exporter": "python",
   "pygments_lexer": "ipython3",
   "version": "3.10.9"
  }
 },
 "nbformat": 4,
 "nbformat_minor": 5
}
